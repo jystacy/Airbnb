{
 "cells": [
  {
   "cell_type": "markdown",
   "metadata": {},
   "source": [
    "# Part II: What kind of hosts can be trusted?"
   ]
  },
  {
   "cell_type": "code",
   "execution_count": null,
   "metadata": {},
   "outputs": [],
   "source": [
    "## 1.Airbnb authentication policies - \"Superhost\", identity verification, host profile pic\n",
    "import scipy.stats as stats\n",
    "from scipy.stats import ttest_ind\n",
    "import seaborn as sns \n",
    "from statsmodels.stats.multicomp import (pairwise_tukeyhsd, MultiComparison)\n",
    "\n",
    "listhost = lists.groupby(['host_id'])['host_total_listings_count',\n",
    "                                    'host_response_rate',\n",
    "                                    'number_of_reviews',\n",
    "                                    'review_scores_rating',\n",
    "                                    'reviews_per_month'].mean()\n",
    "df = lists[['host_id',\n",
    "             'host_is_superhost',\n",
    "             'host_has_profile_pic',\n",
    "             'host_response_time',\n",
    "             'host_identity_verified',\n",
    "             'host_verifications',\n",
    "             'host_neighbourhood']]\n",
    "listhost = listhost.merge(df, on = 'host_id', how = 'left')\n",
    "\n",
    "sns.boxplot(x = \"host_is_superhost\", y = \"review_scores_rating\", data = listhost, showfliers = False)\n",
    "ttest_ind(listhost.query('host_is_superhost == \"t\"').dropna()['review_scores_rating'],\n",
    "          listhost.query('host_is_superhost == \"f\"').dropna()['review_scores_rating'])\n",
    "\n",
    "sns.boxplot(x = \"host_has_profile_pic\", y = \"review_scores_rating\", data = listhost, showfliers = False)\n",
    "ttest_ind(listhost.query('host_has_profile_pic == \"t\"').dropna()['review_scores_rating'],\n",
    "          listhost.query('host_has_profile_pic == \"f\"').dropna()['review_scores_rating'])\n",
    "\n",
    "sns.boxplot(x = \"host_identity_verified\", y = \"review_scores_rating\", data = listhost, showfliers = False)\n",
    "ttest_ind(listhost.query('host_identity_verified == \"t\"').dropna()['review_scores_rating'],\n",
    "          listhost.query('host_identity_verified == \"f\"').dropna()['review_scores_rating'])\n"
   ]
  },
  {
   "cell_type": "code",
   "execution_count": null,
   "metadata": {},
   "outputs": [],
   "source": [
    "## 2.Host's cancellation policy\n",
    "\n",
    "# lists.query('cancellation_policy == \"super_strict_30\"') #only 9 listings with this policy\n",
    "# lists.query('cancellation_policy == \"strict\"') #only 63 listings with this policy which has changed to \"strict_14_with_grace_period\" from 2018\n",
    "# remove \"super_strict_30\" and \"strict\"\n",
    "\n",
    "list_cancel = lists[['review_scores_rating', 'cancellation_policy']].dropna()\n",
    "list_cancel = list_cancel.query('cancellation_policy !=[\"super_strict_30\",\"strict\"]')\n",
    "res = pairwise_tukeyhsd(list_cancel['review_scores_rating'], list_cancel['cancellation_policy'])\n",
    "res.plot_simultaneous()\n"
   ]
  }
 ],
 "metadata": {
  "kernelspec": {
   "display_name": "Python 3",
   "language": "python",
   "name": "python3"
  },
  "language_info": {
   "codemirror_mode": {
    "name": "ipython",
    "version": 3
   },
   "file_extension": ".py",
   "mimetype": "text/x-python",
   "name": "python",
   "nbconvert_exporter": "python",
   "pygments_lexer": "ipython3",
   "version": "3.7.1"
  }
 },
 "nbformat": 4,
 "nbformat_minor": 2
}
