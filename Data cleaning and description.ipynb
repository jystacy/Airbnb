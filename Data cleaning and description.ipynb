{
 "cells": [
  {
   "cell_type": "markdown",
   "metadata": {},
   "source": [
    "# Pre: Data Preparation"
   ]
  },
  {
   "cell_type": "code",
   "execution_count": 2,
   "metadata": {},
   "outputs": [],
   "source": [
    "import pandas as pd\n",
    "import numpy as np\n",
    "import matplotlib.pyplot as plt\n",
    "import geopandas as gpd \n",
    "import descartes\n",
    "\n",
    "\n",
    "## Read data\n",
    "lists = pd.read_csv('listings.csv')\n",
    "pd.set_option('display.max_columns', 500) #expand the size of terminal window to display all rows\n",
    "\n",
    "## Clean data - only for this case, using LA as example\n",
    "lists['zipcode'] = lists['zipcode'].astype(str).\\\n",
    "                                    str.replace('ca','').\\\n",
    "                                    str.replace('CA','').\\\n",
    "                                    str.replace('Near ','').\\\n",
    "                                    str.replace('139 S Valencia Ave, Glendora.','').\\\n",
    "                                    str.extract(r'^(\\d{5})')\n",
    "\n",
    "lists['price'] = lists['price'].astype(str).\\\n",
    "                                str.replace('$','').\\\n",
    "                                str.replace(',','').\\\n",
    "                                astype(float)\n",
    "\n",
    "lists = lists.query('price > 0')  #filter out listings for free living\n",
    "lists['cleaning_fee'] = lists['cleaning_fee'].astype(str).\\\n",
    "                                            str.replace('$','').\\\n",
    "                                            str.replace(',','').\\\n",
    "                                            astype(float)\n",
    "\n",
    "lists['host_since_year'] = lists['host_since'].astype(str).apply(lambda x: x.split('-')[0]) #extract host join year\n",
    "\n",
    "lists['list_since_year'] = lists['first_review'].astype(str).apply(lambda x: x.split('-')[0]) #extract listing upload year\n",
    "\n",
    "## Summarize data\n",
    "#lists.describe()"
   ]
  },
  {
   "cell_type": "markdown",
   "metadata": {},
   "source": [
    "# Part I: Description of Data"
   ]
  },
  {
   "cell_type": "code",
   "execution_count": null,
   "metadata": {},
   "outputs": [],
   "source": [
    "## Bar chart showing the new listing growth rate from 2008\n",
    "list_growth = pd.DataFrame()\n",
    "list_growth = lists.groupby('list_since_year')['id'].nunique().reset_index()\n",
    "list_growth = list_growth.query('list_since_year != \"nan\"').rename(columns = {'id': 'new_listing_count'})\n",
    "list_growth.plot(kind = 'bar', x = 'list_since_year', title = 'New Listing Growth Trend')\n",
    "\n",
    "## Bar chart showing the new host growth rate from 2008\n",
    "host_growth = pd.DataFrame()\n",
    "host_growth = lists.groupby('host_since_year')['host_id'].nunique().reset_index()\n",
    "host_growth = host_growth.query('host_since_year != \"nan\"').rename(columns = {'host_id': 'new_host_count'})\n",
    "host_growth.plot(kind = 'bar', x = 'host_since_year', title = 'New Host Growth Trend')"
   ]
  }
 ],
 "metadata": {
  "kernelspec": {
   "display_name": "Python 3",
   "language": "python",
   "name": "python3"
  },
  "language_info": {
   "codemirror_mode": {
    "name": "ipython",
    "version": 3
   },
   "file_extension": ".py",
   "mimetype": "text/x-python",
   "name": "python",
   "nbconvert_exporter": "python",
   "pygments_lexer": "ipython3",
   "version": "3.7.1"
  }
 },
 "nbformat": 4,
 "nbformat_minor": 2
}
